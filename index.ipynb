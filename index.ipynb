{
 "cells": [
  {
   "cell_type": "markdown",
   "id": "887015fe-378c-4ee5-976b-e8ae7ec00ff7",
   "metadata": {},
   "source": [
    "# PyTorch Handwritten Digit Recognition"
   ]
  },
  {
   "cell_type": "markdown",
   "id": "48b0780a-3141-409a-9561-48ee89a0c23e",
   "metadata": {},
   "source": [
    "## Setting up and Importing the Dataset"
   ]
  },
  {
   "cell_type": "code",
   "execution_count": 2,
   "id": "b48cd92b-c4ec-4d48-8b8c-558662215d24",
   "metadata": {},
   "outputs": [],
   "source": [
    "from torchvision import datasets\n",
    "from torchvision.transforms import ToTensor\n",
    "# Ignore deprecated warnings\n",
    "import warnings\n",
    "warnings.filterwarnings(\"ignore\", category=UserWarning)"
   ]
  },
  {
   "cell_type": "code",
   "execution_count": 3,
   "id": "c66fe710-2d62-41db-a41c-dafd6d4e5afe",
   "metadata": {},
   "outputs": [],
   "source": [
    "train_data = datasets.MNIST(\n",
    "    root = 'data',\n",
    "    train = True,\n",
    "    transform = ToTensor(),\n",
    "    download = True\n",
    ")\n",
    "\n",
    "test_data = datasets.MNIST(\n",
    "    root = 'data',\n",
    "    train = False,\n",
    "    transform = ToTensor(),\n",
    "    download = True\n",
    ")"
   ]
  },
  {
   "cell_type": "markdown",
   "id": "fe458414-7618-4ac0-9d8e-721f837fa739",
   "metadata": {},
   "source": [
    "## Analyzing and Exploring the Data"
   ]
  },
  {
   "cell_type": "markdown",
   "id": "f95c559b-b8e1-4867-993a-d4c6a807e0a2",
   "metadata": {},
   "source": [
    "### Training Data"
   ]
  },
  {
   "cell_type": "code",
   "execution_count": 4,
   "id": "73d6afdd-8712-4370-9479-b7c4072d7cb7",
   "metadata": {},
   "outputs": [
    {
     "data": {
      "text/plain": [
       "Dataset MNIST\n",
       "    Number of datapoints: 60000\n",
       "    Root location: data\n",
       "    Split: Train\n",
       "    StandardTransform\n",
       "Transform: ToTensor()"
      ]
     },
     "execution_count": 4,
     "metadata": {},
     "output_type": "execute_result"
    }
   ],
   "source": [
    "train_data"
   ]
  },
  {
   "cell_type": "markdown",
   "id": "f3602824-becb-4a16-a363-ade4f22afe70",
   "metadata": {},
   "source": [
    "### Testing_data"
   ]
  },
  {
   "cell_type": "code",
   "execution_count": 5,
   "id": "e53090af-542c-4c5a-b6ef-e565f98b7fe1",
   "metadata": {},
   "outputs": [
    {
     "data": {
      "text/plain": [
       "Dataset MNIST\n",
       "    Number of datapoints: 10000\n",
       "    Root location: data\n",
       "    Split: Test\n",
       "    StandardTransform\n",
       "Transform: ToTensor()"
      ]
     },
     "execution_count": 5,
     "metadata": {},
     "output_type": "execute_result"
    }
   ],
   "source": [
    "test_data"
   ]
  },
  {
   "cell_type": "markdown",
   "id": "524e5ed9-aead-4a78-889e-55f67952fad0",
   "metadata": {},
   "source": [
    "### Dataset Shape and Size"
   ]
  },
  {
   "cell_type": "code",
   "execution_count": 6,
   "id": "ef37340f-9bee-4494-b0c4-100b146766ee",
   "metadata": {},
   "outputs": [
    {
     "data": {
      "text/plain": [
       "torch.Size([60000, 28, 28])"
      ]
     },
     "execution_count": 6,
     "metadata": {},
     "output_type": "execute_result"
    }
   ],
   "source": [
    "train_data.data.shape"
   ]
  },
  {
   "cell_type": "code",
   "execution_count": 7,
   "id": "898fb260-146b-4e7b-8438-db63dc3ca54e",
   "metadata": {},
   "outputs": [
    {
     "data": {
      "text/plain": [
       "torch.Size([10000, 28, 28])"
      ]
     },
     "execution_count": 7,
     "metadata": {},
     "output_type": "execute_result"
    }
   ],
   "source": [
    "test_data.data.shape"
   ]
  },
  {
   "cell_type": "code",
   "execution_count": 8,
   "id": "b72a4698-b3aa-4aa7-8d8a-6d121a0650cf",
   "metadata": {},
   "outputs": [
    {
     "data": {
      "text/plain": [
       "torch.Size([60000])"
      ]
     },
     "execution_count": 8,
     "metadata": {},
     "output_type": "execute_result"
    }
   ],
   "source": [
    "train_data.targets.shape"
   ]
  },
  {
   "cell_type": "code",
   "execution_count": 9,
   "id": "88725e49-1f50-45d5-840a-478b7f466226",
   "metadata": {},
   "outputs": [
    {
     "data": {
      "text/plain": [
       "tensor([5, 0, 4,  ..., 5, 6, 8])"
      ]
     },
     "execution_count": 9,
     "metadata": {},
     "output_type": "execute_result"
    }
   ],
   "source": [
    "train_data.targets"
   ]
  },
  {
   "cell_type": "markdown",
   "id": "ebe88220-a8c3-4822-b63f-5ea987db422f",
   "metadata": {},
   "source": [
    "### MNIST Dataset Description\n",
    "\n",
    "The MNIST (Modified National Institute of Standards and Technology) dataset is a widely-used dataset in the field of machine learning and computer vision. It consists of a collection of handwritten digits, from 0 to 9, and serves as a benchmark for developing and testing machine learning algorithms. The dataset was created from samples of handwritten digits by high school students and employees of the United States Census Bureau.\n",
    "\n",
    "#### Dataset Details\n",
    "\n",
    "- **Number of Classes:** 10 (Digits 0 through 9)\n",
    "- **Image Size:** 28 x 28 pixels\n",
    "- **Number of Samples:**\n",
    "  - Training Set: 60,000 images\n",
    "  - Test Set: 10,000 images\n",
    "- **Data Split:**\n",
    "  - The dataset is divided into two main parts: a training set and a test set.\n",
    "- **Format:**\n",
    "  - Each image is grayscale, with pixel values ranging from 0 (black) to 255 (white).\n",
    "  - The dataset is structured as a collection of 28x28-pixel images.\n",
    "- **Labeling:**\n",
    "  - Each image is associated with a corresponding label indicating the digit it represents.\n",
    "- **Purpose:**\n",
    "  - The MNIST dataset is commonly used for training and evaluating machine learning models, especially for tasks related to image classification, digit recognition, and deep learning.\n",
    "- **Usage:**\n",
    "  - Researchers and practitioners often use MNIST as a benchmark dataset to develop, validate, and compare image classification algorithms and deep neural networks."
   ]
  },
  {
   "cell_type": "markdown",
   "id": "e6a23232-85ba-4efa-9924-f0870781b678",
   "metadata": {},
   "source": [
    "## Creating Data Loader"
   ]
  },
  {
   "cell_type": "code",
   "execution_count": 10,
   "id": "3a5e7de4-4e33-489e-a565-76c1d361a8ad",
   "metadata": {},
   "outputs": [],
   "source": [
    "from torch.utils.data import DataLoader\n",
    "\n",
    "loaders = {\n",
    "    'train' : DataLoader(train_data,\n",
    "                         batch_size=100,\n",
    "                         shuffle=True,\n",
    "                         num_workers=1),\n",
    "    'test' : DataLoader(test_data,\n",
    "                        batch_size=100,\n",
    "                        shuffle=True,\n",
    "                        num_workers=1)\n",
    "}"
   ]
  },
  {
   "cell_type": "code",
   "execution_count": 11,
   "id": "bba667e7-def1-4d15-8a68-853ceb71892d",
   "metadata": {},
   "outputs": [
    {
     "data": {
      "text/plain": [
       "{'train': <torch.utils.data.dataloader.DataLoader at 0x1c8f214ea50>,\n",
       " 'test': <torch.utils.data.dataloader.DataLoader at 0x1c8f2116490>}"
      ]
     },
     "execution_count": 11,
     "metadata": {},
     "output_type": "execute_result"
    }
   ],
   "source": [
    "loaders"
   ]
  },
  {
   "cell_type": "markdown",
   "id": "67478bfa-2817-4794-b009-3aff4085354f",
   "metadata": {},
   "source": [
    "I'm here to provide an explanation as requested in the first-person point of view:\n",
    "\n",
    "I created the `loaders` dictionary in my code to manage the data loading process for my machine learning project. Here's why I did this:\n",
    "\n",
    "1. **Data Loading Module**: First, I imported the `DataLoader` class from PyTorch's `torch.utils.data` module. This class is essential for efficiently loading and managing my training and testing datasets.\n",
    "\n",
    "2. **Data Split**: In my project, I have two sets of data: a training dataset (`train_data`) and a testing dataset (`test_data`). I need to split these datasets into batches for processing during training and testing.\n",
    "\n",
    "3. **Loaders for Training and Testing**: I created two data loaders within the `loaders` dictionary: one for training data and one for testing data. Here's what each loader does:\n",
    "\n",
    "   - `train` DataLoader:\n",
    "     - I configured this DataLoader for the training dataset (`train_data`).\n",
    "     - I specified a batch size of 100. This means that during training, my model will process the data in mini-batches of 100 samples at a time, which is an efficient way to update the model's parameters.\n",
    "     - I set `shuffle` to `True`, which means that the training data will be shuffled at the beginning of each epoch. Shuffling helps prevent the model from memorizing the order of the data and aids in better generalization.\n",
    "     - I used `num_workers` with a value of 1. This means that I will use a single worker process for data loading. This is usually sufficient for most tasks. More workers can be used to load data faster if needed, but it depends on the available system resources.\n",
    "\n",
    "   - `test` DataLoader:\n",
    "     - Similarly, I configured this DataLoader for the testing dataset (`test_data`).\n",
    "     - The batch size is set to 100, ensuring that I evaluate the model's performance on 100 samples at a time.\n",
    "     - Like the training DataLoader, I set `shuffle` to `True` to randomize the order of test data.\n",
    "     - I also used a single worker for test data loading.\n",
    "\n",
    "In summary, I created these data loaders to efficiently process and manage my training and testing data in batches, making it easier to train and evaluate machine learning models. The choice of batch size, shuffling, and the number of workers depends on the specific requirements of my project."
   ]
  },
  {
   "cell_type": "markdown",
   "id": "608f3a8d-b228-4805-81fd-a6e8673b981d",
   "metadata": {},
   "source": [
    "## Creating the Machine Learning Model"
   ]
  },
  {
   "cell_type": "code",
   "execution_count": 12,
   "id": "bb0dee3b-8485-4605-b814-f200bad1532e",
   "metadata": {},
   "outputs": [],
   "source": [
    "import torch.nn as nn\n",
    "import torch.nn.functional as F\n",
    "import torch.optim as optim"
   ]
  },
  {
   "cell_type": "code",
   "execution_count": 13,
   "id": "219bb8d6-5ec5-49a0-b172-c090ec3fe610",
   "metadata": {},
   "outputs": [],
   "source": [
    "class CNN(nn.Module):\n",
    "\n",
    "    def __init__(self):\n",
    "        super(CNN, self).__init__()\n",
    "        \n",
    "        self.conv1 = nn.Conv2d(1, 10, kernel_size=5)\n",
    "        self.conv2 = nn.Conv2d(10, 20, kernel_size=5)\n",
    "        self.conv2_drop = nn.Dropout2d()\n",
    "        self.fc1 = nn.Linear(320, 50)\n",
    "        self.fc2 = nn.Linear(50, 10)\n",
    "\n",
    "    def forward(self, x):\n",
    "        x = F.relu(F.max_pool2d(self.conv1(x), 2))\n",
    "        x = F.relu(F.max_pool2d(self.conv2_drop(self.conv2(x)), 2))\n",
    "        x = x.view(-1, 320)\n",
    "        x = F.relu(self.fc1(x))\n",
    "        x = F.dropout(x, training=self.training)\n",
    "        x = self.fc2(x)\n",
    "\n",
    "        return F.softmax(x)   "
   ]
  },
  {
   "cell_type": "markdown",
   "id": "ddca83f3-9d09-4a9e-a9c2-7c7457c32d9b",
   "metadata": {},
   "source": [
    "## Why did I created the CNN Machine Learning Model using PyTorch?"
   ]
  },
  {
   "cell_type": "markdown",
   "id": "c9b45c23-20de-4879-8701-5d49390e6617",
   "metadata": {},
   "source": [
    "\r\n",
    "As I embark on the journey to analyze the MNIST dataset, I've chosen to work with PyTorch and employ a Convolutional Neural Network (CNN) for a few compelling reasons.\r\n",
    "\r\n",
    "## Why I Chose PyTorch\r\n",
    "\r\n",
    "1. **Ease of Use and Flexibility:** PyTorch is known for its user-friendly and dynamic computation graph, making it an excellent choice for deep learning research and experimentation. As I explore the MNIST dataset, PyTorch's flexibility allows me to define and modify complex neural network architectures with ease.\r\n",
    "\r\n",
    "2. **Rich Ecosystem:** PyTorch offers a rich ecosystem of tools and libraries for machine learning and deep learning, including `torchvision`, which provides easy access to popular datasets like MNIST, as well as pre-processing tools and data augmentation techniques.\r\n",
    "\r\n",
    "3. **Community and Documentation:** PyTorch has a vibrant and supportive community. Extensive documentation, tutorials, and online forums provide valuable resources as I delve into the intricacies of deep learning and image classification.\r\n",
    "\r\n",
    "4. **GPU Acceleration:** PyTorch seamlessly integrates with GPUs, enabling me to leverage the power of accelerated computing for faster training and better model performance.\r\n",
    "\r\n",
    "## Why I Chose a Convolutional Neural Network (CNN)\r\n",
    "\r\n",
    "1. **Specialized for Image Data:** CNNs are designed for image-related tasks, and the MNIST dataset consists of 28x28 pixel grayscale images of handwritten digits. CNNs excel at capturing hierarchical patterns and features in images, making them a natural choice for this task.\r\n",
    "\r\n",
    "2. **Feature Learning:** CNNs automatically learn and extract hierarchical features from the input data. This feature learning capability allows me to focus on the architecture and let the network discover the relevant patterns within the images.\r\n",
    "\r\n",
    "3. **Spatial Hierarchy:** CNNs preserve the spatial hierarchy of the input data, which is essential for recognizing intricate patterns and structures in images. In the case of handwritten digits, preserving the spatial relationships of pixels is crucial for accurate recognition.\r\n",
    "\r\n",
    "4. **Weight Sharing:** CNNs utilize weight sharing to reduce the number of parameters, making them more efficient for image data. This is particularly beneficial when working with relatively smalnetwork\r\n",
    "        return F.softmax(x)\r\n"
   ]
  },
  {
   "cell_type": "markdown",
   "id": "e04987a4-7803-4e9f-9e42-8730ab90732b",
   "metadata": {},
   "source": [
    "## Optimizing the Machine Learning Model using CUDA"
   ]
  },
  {
   "cell_type": "code",
   "execution_count": 14,
   "id": "ee66ba8c-b19f-46c4-a1fa-469ad1ca6755",
   "metadata": {},
   "outputs": [
    {
     "data": {
      "text/plain": [
       "True"
      ]
     },
     "execution_count": 14,
     "metadata": {},
     "output_type": "execute_result"
    }
   ],
   "source": [
    "import torch\n",
    "device = torch.device('cuda' if torch.cuda.is_available() else 'cpu')\n",
    "model = CNN().to(device)\n",
    "optimizer = optim.Adam(model.parameters(), lr=0.001)\n",
    "loss_fn = nn.CrossEntropyLoss()\n",
    "torch.cuda.is_available()"
   ]
  },
  {
   "cell_type": "markdown",
   "id": "bae1e742-05ea-4955-baba-d64e2c994e72",
   "metadata": {},
   "source": [
    "The code performs the following tasks:\n",
    "\n",
    "1. It imports the PyTorch library using `import torch`.\n",
    "\n",
    "2. It checks if a CUDA-compatible GPU is available using `torch.cuda.is_available()`. If a GPU is available, the code assigns the device to the GPU (`'cuda'`); otherwise, it assigns the device to the CPU (`'cpu'`). This allows the model and data to be processed on the available hardware.\n",
    "\n",
    "3. It creates an instance of the CNN model using `model = CNN()`. This model is designed for image classification tasks and is intended to recognize handwritten digits. The model is then moved to the specified device (GPU or CPU) using `.to(device)`.\n",
    "\n",
    "4. It sets up the optimizer for training the model. In this case, it uses the Adam optimizer (`optim.Adam`) and specifies a learning rate of 0.001. The optimizer is responsible for updating the model's parameters during training.\n",
    "\n",
    "5. It defines the loss function for the model. The code uses the cross-entropy loss (`nn.CrossEntropyLoss()`), which is a common choice for classification tasks. This loss function quantifies the difference between the predicted class probabilities and the actual target labels.\n",
    "\n",
    "These steps are crucial for setting up the model, training it, and optimizing its parameters during the training process. The choice of GPU or CPU depends on the availability of hardware and the speed of processing required."
   ]
  },
  {
   "cell_type": "markdown",
   "id": "c75a65db-e00e-440b-b25e-cc0cdaa37201",
   "metadata": {},
   "source": [
    "## Creating the Dataset Training Mode"
   ]
  },
  {
   "cell_type": "code",
   "execution_count": 15,
   "id": "34ba35af-f3aa-4222-b294-d1c77386e078",
   "metadata": {},
   "outputs": [],
   "source": [
    "def train(epoch):\n",
    "    model.train()\n",
    "    for batch_idx, (data, target) in enumerate(loaders['train']):\n",
    "        data, target = data.to(device), target.to(device)\n",
    "        optimizer.zero_grad()\n",
    "        output = model(data)\n",
    "        loss = loss_fn(output, target)\n",
    "        loss.backward()\n",
    "        optimizer.step()\n",
    "        if batch_idx % 20 == 0:\n",
    "            print(f\"Train Epoch: {epoch} [{batch_idx * len(data)} / {len(loaders['train'].dataset)} ({100 * batch_idx / len(loaders['train']):0f}%)]\\t{loss.item():.6f}\")"
   ]
  },
  {
   "cell_type": "markdown",
   "id": "d35b54ba-16cd-4a80-8e6f-ff0ba422001f",
   "metadata": {},
   "source": [
    "I implemented the `train` function in my code, and I'll explain why I did this:\r\n",
    "\r\n",
    "1. **Model Training Purpose**: I used the `train` function to handle the training process for my machine learning model. Here's why I implemented this function:\r\n",
    "\r\n",
    "2. **Set Model State**: I started by setting the model's state to training mode using `model.train()`. This is necessary because some layers, like dropout and batch normalization, behave differently during training and testing. Setting the model to training mode ensures that these layers operate as expected during training.\r\n",
    "\r\n",
    "3. **Data Iteration**: I used a `for` loop to iterate through the training data. The loop, defined by `for batch_idx, (data, target) in enumerate(loaders['train']):`, allows me to process the data in batches.\r\n",
    "\r\n",
    "4. **Data Transfer to GPU**: To leverage the GPU for faster computation (if available), I transferred both the input data and target labels to the device (either 'cuda' if GPU is available or 'cpu') using `data, target = data.to(device), target.to(device)`.\r\n",
    "\r\n",
    "5. **Gradient Initialization**: Before calculating gradients, I initialized the optimizer's gradients to zero with `optimizer.zero_grad()`. This step is crucial because it ensures that gradients from previous iterations do not accumulate.\r\n",
    "\r\n",
    "6. **Forward Pass**: I then performed a forward pass through the model by calling `model(data)`. This computes the model's predictions based on the input data.\r\n",
    "\r\n",
    "7. **Loss Calculation**: After obtaining model predictions, I calculated the loss between these predictions and the actual target labels using the specified loss function (`loss_fn`). This loss quantifies how well the model is performing on the given batch of data.\r\n",
    "\r\n",
    "8. **Backpropagation**: To train the model, I performed backpropagation by calling `loss.backward()`. This step computes the gradients of the loss with respect to the model's parameters.\r\n",
    "\r\n",
    "9. **Parameter Updates**: I updated the model's parameters by calling `optimizer.step()`. This step is responsible for adjusting the model's weights to minimize the loss.\r\n",
    "\r\n",
    "10. **Progress Reporting**: To keep track of training progress, I included a conditional statement that prints training progress updates every 20 batches. These updates include the current epoch, the number of processed samples, the total dataset size, and the current batch's loss.\r\n",
    "\r\n",
    "In summary, I created the `train` function to encapsulate the training logic for my model. This function ensures that the model iteratively processes batches of training data, computes gradients, updates model parameters, and reports training progress. By structuring the training process this way, I can easily manage and monitor the training of my machine learning model."
   ]
  },
  {
   "cell_type": "markdown",
   "id": "1f77e86f-679b-4e69-ae42-a12862682395",
   "metadata": {},
   "source": [
    "## Creating the Dataset Testing Mode"
   ]
  },
  {
   "cell_type": "code",
   "execution_count": 16,
   "id": "9c1c7f9a-ef83-4618-a2f3-61e4491c25d8",
   "metadata": {},
   "outputs": [],
   "source": [
    "def test():\n",
    "    model.eval()\n",
    "    test_loss = 0\n",
    "    correct = 0\n",
    "    with torch.no_grad():\n",
    "        for data, target in loaders['test']:\n",
    "            data, target = data.to(device), target.to(device)\n",
    "            output = model(data)\n",
    "            test_loss += loss_fn(output, target).item()\n",
    "            pred = output.argmax(dim=1, keepdim=True)\n",
    "            correct += pred.eq(target.view_as(pred)).sum().item()\n",
    "    test_loss /= len(loaders['test'].dataset)\n",
    "    print(f\"\\nTest set: Average loss: {test_loss: 0.4f}, Accuracy {correct}/{len(loaders['test'].dataset)}  ({100 * correct / len(loaders['test'].dataset):.0f}%\\n)\")"
   ]
  },
  {
   "cell_type": "markdown",
   "id": "e2968b56-0afc-4569-b47f-d45974f5fb14",
   "metadata": {},
   "source": [
    "I implemented the `test` function in my code, and I'll explain why I did this using the first-person point of view:\n",
    "\n",
    "1. **Model Evaluation Purpose**: I created the `test` function to handle the evaluation of my machine learning model. Here's why I implemented this function:\n",
    "\n",
    "2. **Set Model State**: I started by setting the model's state to evaluation mode using `model.eval()`. It's essential to do this because during evaluation, I don't want the model to perform operations like dropout, which are active during training. Setting the model to evaluation mode ensures that these operations are deactivated.\n",
    "\n",
    "3. **Initialize Evaluation Variables**: I initialized variables `test_loss` to keep track of the cumulative test loss and `correct` to count the number of correct predictions made by the model.\n",
    "\n",
    "4. **No Gradient Computation**: Inside the `with torch.no_grad():` context, I specified that no gradients should be computed. This is because I don't need to backpropagate during evaluation, and disabling gradient computation improves efficiency.\n",
    "\n",
    "5. **Data Iteration**: I used a `for` loop to iterate through the test data using `for data, target in loaders['test']:`. This loop allows me to process the test data in batches.\n",
    "\n",
    "6. **Data Transfer to GPU**: Similar to the training phase, I transferred the test data and target labels to the specified device (either 'cuda' if GPU is available or 'cpu') with `data, target = data.to(device), target.to(device)`.\n",
    "\n",
    "7. **Forward Pass and Loss Computation**: I passed the test data through the model with `output = model(data)` to obtain predictions. I then computed the test loss using the specified loss function (`loss_fn`) and added it to the `test_loss` variable. This step helps assess the model's performance on the test data.\n",
    "\n",
    "8. **Prediction and Accuracy Calculation**: I determined the model's predictions by finding the class with the highest probability using `pred = output.argmax(dim=1, keepdim=True)`. I compared these predictions to the actual target labels and calculated the number of correct predictions using `correct += pred.eq(target.view_as(pred)).sum().item()`.\n",
    "\n",
    "9. **Final Evaluation Metrics**: After processing all the test data, I divided the cumulative test loss by the total number of samples in the test dataset to calculate the average test loss. I also computed the accuracy by dividing the number of correct predictions by the total number of samples in the test dataset.\n",
    "\n",
    "10. **Print Evaluation Results**: I printed the evaluation results, including the average test loss and accuracy, to provide a summary of how well the model performed on the test data.\n",
    "\n",
    "In summary, I created the `test` function to evaluate the model's performance on the test dataset. By structuring the evaluation process in this way, I can efficiently assess the model's accuracy and loss without unnecessary gradient computation, making the process both clear and computationally efficient."
   ]
  },
  {
   "cell_type": "markdown",
   "id": "c9c698a9-8c22-45a4-a9b3-2df3e0c0c72c",
   "metadata": {},
   "source": [
    "## Starting the Dataset Training Process"
   ]
  },
  {
   "cell_type": "code",
   "execution_count": 17,
   "id": "5f0e917d-af99-48c0-a46c-8e3304451bca",
   "metadata": {},
   "outputs": [
    {
     "name": "stdout",
     "output_type": "stream",
     "text": [
      "Train Epoch: 1 [0 / 60000 (0.000000%)]\t2.302126\n",
      "Train Epoch: 1 [2000 / 60000 (3.333333%)]\t2.278236\n",
      "Train Epoch: 1 [4000 / 60000 (6.666667%)]\t2.148942\n",
      "Train Epoch: 1 [6000 / 60000 (10.000000%)]\t1.997335\n",
      "Train Epoch: 1 [8000 / 60000 (13.333333%)]\t1.892349\n",
      "Train Epoch: 1 [10000 / 60000 (16.666667%)]\t1.868389\n",
      "Train Epoch: 1 [12000 / 60000 (20.000000%)]\t1.805564\n",
      "Train Epoch: 1 [14000 / 60000 (23.333333%)]\t1.761229\n",
      "Train Epoch: 1 [16000 / 60000 (26.666667%)]\t1.802892\n",
      "Train Epoch: 1 [18000 / 60000 (30.000000%)]\t1.667757\n",
      "Train Epoch: 1 [20000 / 60000 (33.333333%)]\t1.790289\n",
      "Train Epoch: 1 [22000 / 60000 (36.666667%)]\t1.788332\n",
      "Train Epoch: 1 [24000 / 60000 (40.000000%)]\t1.667326\n",
      "Train Epoch: 1 [26000 / 60000 (43.333333%)]\t1.646508\n",
      "Train Epoch: 1 [28000 / 60000 (46.666667%)]\t1.738961\n",
      "Train Epoch: 1 [30000 / 60000 (50.000000%)]\t1.673892\n",
      "Train Epoch: 1 [32000 / 60000 (53.333333%)]\t1.696161\n",
      "Train Epoch: 1 [34000 / 60000 (56.666667%)]\t1.685443\n",
      "Train Epoch: 1 [36000 / 60000 (60.000000%)]\t1.662897\n",
      "Train Epoch: 1 [38000 / 60000 (63.333333%)]\t1.658711\n",
      "Train Epoch: 1 [40000 / 60000 (66.666667%)]\t1.623602\n",
      "Train Epoch: 1 [42000 / 60000 (70.000000%)]\t1.675234\n",
      "Train Epoch: 1 [44000 / 60000 (73.333333%)]\t1.647220\n",
      "Train Epoch: 1 [46000 / 60000 (76.666667%)]\t1.612900\n",
      "Train Epoch: 1 [48000 / 60000 (80.000000%)]\t1.674699\n",
      "Train Epoch: 1 [50000 / 60000 (83.333333%)]\t1.622652\n",
      "Train Epoch: 1 [52000 / 60000 (86.666667%)]\t1.614670\n",
      "Train Epoch: 1 [54000 / 60000 (90.000000%)]\t1.614802\n",
      "Train Epoch: 1 [56000 / 60000 (93.333333%)]\t1.626797\n",
      "Train Epoch: 1 [58000 / 60000 (96.666667%)]\t1.619795\n",
      "\n",
      "Test set: Average loss:  0.0154, Accuracy 9227/10000  (92%\n",
      ")\n",
      "Train Epoch: 2 [0 / 60000 (0.000000%)]\t1.604477\n",
      "Train Epoch: 2 [2000 / 60000 (3.333333%)]\t1.642866\n",
      "Train Epoch: 2 [4000 / 60000 (6.666667%)]\t1.589630\n",
      "Train Epoch: 2 [6000 / 60000 (10.000000%)]\t1.654823\n",
      "Train Epoch: 2 [8000 / 60000 (13.333333%)]\t1.623904\n",
      "Train Epoch: 2 [10000 / 60000 (16.666667%)]\t1.624826\n",
      "Train Epoch: 2 [12000 / 60000 (20.000000%)]\t1.614273\n",
      "Train Epoch: 2 [14000 / 60000 (23.333333%)]\t1.603255\n",
      "Train Epoch: 2 [16000 / 60000 (26.666667%)]\t1.548475\n",
      "Train Epoch: 2 [18000 / 60000 (30.000000%)]\t1.614533\n",
      "Train Epoch: 2 [20000 / 60000 (33.333333%)]\t1.606462\n",
      "Train Epoch: 2 [22000 / 60000 (36.666667%)]\t1.579191\n",
      "Train Epoch: 2 [24000 / 60000 (40.000000%)]\t1.573778\n",
      "Train Epoch: 2 [26000 / 60000 (43.333333%)]\t1.638971\n",
      "Train Epoch: 2 [28000 / 60000 (46.666667%)]\t1.563346\n",
      "Train Epoch: 2 [30000 / 60000 (50.000000%)]\t1.602447\n",
      "Train Epoch: 2 [32000 / 60000 (53.333333%)]\t1.590295\n",
      "Train Epoch: 2 [34000 / 60000 (56.666667%)]\t1.625394\n",
      "Train Epoch: 2 [36000 / 60000 (60.000000%)]\t1.649131\n",
      "Train Epoch: 2 [38000 / 60000 (63.333333%)]\t1.609460\n",
      "Train Epoch: 2 [40000 / 60000 (66.666667%)]\t1.583601\n",
      "Train Epoch: 2 [42000 / 60000 (70.000000%)]\t1.567727\n",
      "Train Epoch: 2 [44000 / 60000 (73.333333%)]\t1.648653\n",
      "Train Epoch: 2 [46000 / 60000 (76.666667%)]\t1.552369\n",
      "Train Epoch: 2 [48000 / 60000 (80.000000%)]\t1.579147\n",
      "Train Epoch: 2 [50000 / 60000 (83.333333%)]\t1.597867\n",
      "Train Epoch: 2 [52000 / 60000 (86.666667%)]\t1.588399\n",
      "Train Epoch: 2 [54000 / 60000 (90.000000%)]\t1.552232\n",
      "Train Epoch: 2 [56000 / 60000 (93.333333%)]\t1.529332\n",
      "Train Epoch: 2 [58000 / 60000 (96.666667%)]\t1.610663\n",
      "\n",
      "Test set: Average loss:  0.0152, Accuracy 9459/10000  (95%\n",
      ")\n",
      "Train Epoch: 3 [0 / 60000 (0.000000%)]\t1.539822\n",
      "Train Epoch: 3 [2000 / 60000 (3.333333%)]\t1.568375\n",
      "Train Epoch: 3 [4000 / 60000 (6.666667%)]\t1.650679\n",
      "Train Epoch: 3 [6000 / 60000 (10.000000%)]\t1.571510\n",
      "Train Epoch: 3 [8000 / 60000 (13.333333%)]\t1.564606\n",
      "Train Epoch: 3 [10000 / 60000 (16.666667%)]\t1.558145\n",
      "Train Epoch: 3 [12000 / 60000 (20.000000%)]\t1.617845\n",
      "Train Epoch: 3 [14000 / 60000 (23.333333%)]\t1.527499\n",
      "Train Epoch: 3 [16000 / 60000 (26.666667%)]\t1.535375\n",
      "Train Epoch: 3 [18000 / 60000 (30.000000%)]\t1.545935\n",
      "Train Epoch: 3 [20000 / 60000 (33.333333%)]\t1.564836\n",
      "Train Epoch: 3 [22000 / 60000 (36.666667%)]\t1.602443\n",
      "Train Epoch: 3 [24000 / 60000 (40.000000%)]\t1.588353\n",
      "Train Epoch: 3 [26000 / 60000 (43.333333%)]\t1.595825\n",
      "Train Epoch: 3 [28000 / 60000 (46.666667%)]\t1.559958\n",
      "Train Epoch: 3 [30000 / 60000 (50.000000%)]\t1.573787\n",
      "Train Epoch: 3 [32000 / 60000 (53.333333%)]\t1.555348\n",
      "Train Epoch: 3 [34000 / 60000 (56.666667%)]\t1.520213\n",
      "Train Epoch: 3 [36000 / 60000 (60.000000%)]\t1.551306\n",
      "Train Epoch: 3 [38000 / 60000 (63.333333%)]\t1.563043\n",
      "Train Epoch: 3 [40000 / 60000 (66.666667%)]\t1.599690\n",
      "Train Epoch: 3 [42000 / 60000 (70.000000%)]\t1.570748\n",
      "Train Epoch: 3 [44000 / 60000 (73.333333%)]\t1.543763\n",
      "Train Epoch: 3 [46000 / 60000 (76.666667%)]\t1.531595\n",
      "Train Epoch: 3 [48000 / 60000 (80.000000%)]\t1.587487\n",
      "Train Epoch: 3 [50000 / 60000 (83.333333%)]\t1.578531\n",
      "Train Epoch: 3 [52000 / 60000 (86.666667%)]\t1.543213\n",
      "Train Epoch: 3 [54000 / 60000 (90.000000%)]\t1.572944\n",
      "Train Epoch: 3 [56000 / 60000 (93.333333%)]\t1.547083\n",
      "Train Epoch: 3 [58000 / 60000 (96.666667%)]\t1.570083\n",
      "\n",
      "Test set: Average loss:  0.0151, Accuracy 9531/10000  (95%\n",
      ")\n",
      "Train Epoch: 4 [0 / 60000 (0.000000%)]\t1.533852\n",
      "Train Epoch: 4 [2000 / 60000 (3.333333%)]\t1.540125\n",
      "Train Epoch: 4 [4000 / 60000 (6.666667%)]\t1.555521\n",
      "Train Epoch: 4 [6000 / 60000 (10.000000%)]\t1.532377\n",
      "Train Epoch: 4 [8000 / 60000 (13.333333%)]\t1.575083\n",
      "Train Epoch: 4 [10000 / 60000 (16.666667%)]\t1.559675\n",
      "Train Epoch: 4 [12000 / 60000 (20.000000%)]\t1.566221\n",
      "Train Epoch: 4 [14000 / 60000 (23.333333%)]\t1.551079\n",
      "Train Epoch: 4 [16000 / 60000 (26.666667%)]\t1.584158\n",
      "Train Epoch: 4 [18000 / 60000 (30.000000%)]\t1.569840\n",
      "Train Epoch: 4 [20000 / 60000 (33.333333%)]\t1.518429\n",
      "Train Epoch: 4 [22000 / 60000 (36.666667%)]\t1.557059\n",
      "Train Epoch: 4 [24000 / 60000 (40.000000%)]\t1.565541\n",
      "Train Epoch: 4 [26000 / 60000 (43.333333%)]\t1.525771\n",
      "Train Epoch: 4 [28000 / 60000 (46.666667%)]\t1.526265\n",
      "Train Epoch: 4 [30000 / 60000 (50.000000%)]\t1.541050\n",
      "Train Epoch: 4 [32000 / 60000 (53.333333%)]\t1.564060\n",
      "Train Epoch: 4 [34000 / 60000 (56.666667%)]\t1.526476\n",
      "Train Epoch: 4 [36000 / 60000 (60.000000%)]\t1.577043\n",
      "Train Epoch: 4 [38000 / 60000 (63.333333%)]\t1.573342\n",
      "Train Epoch: 4 [40000 / 60000 (66.666667%)]\t1.564972\n",
      "Train Epoch: 4 [42000 / 60000 (70.000000%)]\t1.577626\n",
      "Train Epoch: 4 [44000 / 60000 (73.333333%)]\t1.520937\n",
      "Train Epoch: 4 [46000 / 60000 (76.666667%)]\t1.587332\n",
      "Train Epoch: 4 [48000 / 60000 (80.000000%)]\t1.603996\n",
      "Train Epoch: 4 [50000 / 60000 (83.333333%)]\t1.526618\n",
      "Train Epoch: 4 [52000 / 60000 (86.666667%)]\t1.546188\n",
      "Train Epoch: 4 [54000 / 60000 (90.000000%)]\t1.582802\n",
      "Train Epoch: 4 [56000 / 60000 (93.333333%)]\t1.519154\n",
      "Train Epoch: 4 [58000 / 60000 (96.666667%)]\t1.585871\n",
      "\n",
      "Test set: Average loss:  0.0150, Accuracy 9594/10000  (96%\n",
      ")\n",
      "Train Epoch: 5 [0 / 60000 (0.000000%)]\t1.537937\n",
      "Train Epoch: 5 [2000 / 60000 (3.333333%)]\t1.560455\n",
      "Train Epoch: 5 [4000 / 60000 (6.666667%)]\t1.549326\n",
      "Train Epoch: 5 [6000 / 60000 (10.000000%)]\t1.573315\n",
      "Train Epoch: 5 [8000 / 60000 (13.333333%)]\t1.571659\n",
      "Train Epoch: 5 [10000 / 60000 (16.666667%)]\t1.553873\n",
      "Train Epoch: 5 [12000 / 60000 (20.000000%)]\t1.551100\n",
      "Train Epoch: 5 [14000 / 60000 (23.333333%)]\t1.559629\n",
      "Train Epoch: 5 [16000 / 60000 (26.666667%)]\t1.546931\n",
      "Train Epoch: 5 [18000 / 60000 (30.000000%)]\t1.525325\n",
      "Train Epoch: 5 [20000 / 60000 (33.333333%)]\t1.543146\n",
      "Train Epoch: 5 [22000 / 60000 (36.666667%)]\t1.586087\n",
      "Train Epoch: 5 [24000 / 60000 (40.000000%)]\t1.534904\n",
      "Train Epoch: 5 [26000 / 60000 (43.333333%)]\t1.522893\n",
      "Train Epoch: 5 [28000 / 60000 (46.666667%)]\t1.547008\n",
      "Train Epoch: 5 [30000 / 60000 (50.000000%)]\t1.522098\n",
      "Train Epoch: 5 [32000 / 60000 (53.333333%)]\t1.558202\n",
      "Train Epoch: 5 [34000 / 60000 (56.666667%)]\t1.558153\n",
      "Train Epoch: 5 [36000 / 60000 (60.000000%)]\t1.530314\n",
      "Train Epoch: 5 [38000 / 60000 (63.333333%)]\t1.529948\n",
      "Train Epoch: 5 [40000 / 60000 (66.666667%)]\t1.548629\n",
      "Train Epoch: 5 [42000 / 60000 (70.000000%)]\t1.519712\n",
      "Train Epoch: 5 [44000 / 60000 (73.333333%)]\t1.537969\n",
      "Train Epoch: 5 [46000 / 60000 (76.666667%)]\t1.564417\n",
      "Train Epoch: 5 [48000 / 60000 (80.000000%)]\t1.542894\n",
      "Train Epoch: 5 [50000 / 60000 (83.333333%)]\t1.558008\n",
      "Train Epoch: 5 [52000 / 60000 (86.666667%)]\t1.544977\n",
      "Train Epoch: 5 [54000 / 60000 (90.000000%)]\t1.542108\n",
      "Train Epoch: 5 [56000 / 60000 (93.333333%)]\t1.532322\n",
      "Train Epoch: 5 [58000 / 60000 (96.666667%)]\t1.548940\n",
      "\n",
      "Test set: Average loss:  0.0150, Accuracy 9611/10000  (96%\n",
      ")\n",
      "Train Epoch: 6 [0 / 60000 (0.000000%)]\t1.569308\n",
      "Train Epoch: 6 [2000 / 60000 (3.333333%)]\t1.518221\n",
      "Train Epoch: 6 [4000 / 60000 (6.666667%)]\t1.581055\n",
      "Train Epoch: 6 [6000 / 60000 (10.000000%)]\t1.567563\n",
      "Train Epoch: 6 [8000 / 60000 (13.333333%)]\t1.568807\n",
      "Train Epoch: 6 [10000 / 60000 (16.666667%)]\t1.578219\n",
      "Train Epoch: 6 [12000 / 60000 (20.000000%)]\t1.499513\n",
      "Train Epoch: 6 [14000 / 60000 (23.333333%)]\t1.505635\n",
      "Train Epoch: 6 [16000 / 60000 (26.666667%)]\t1.557699\n",
      "Train Epoch: 6 [18000 / 60000 (30.000000%)]\t1.535838\n",
      "Train Epoch: 6 [20000 / 60000 (33.333333%)]\t1.575332\n",
      "Train Epoch: 6 [22000 / 60000 (36.666667%)]\t1.597251\n",
      "Train Epoch: 6 [24000 / 60000 (40.000000%)]\t1.569238\n",
      "Train Epoch: 6 [26000 / 60000 (43.333333%)]\t1.577377\n",
      "Train Epoch: 6 [28000 / 60000 (46.666667%)]\t1.545779\n",
      "Train Epoch: 6 [30000 / 60000 (50.000000%)]\t1.545930\n",
      "Train Epoch: 6 [32000 / 60000 (53.333333%)]\t1.536606\n",
      "Train Epoch: 6 [34000 / 60000 (56.666667%)]\t1.532337\n",
      "Train Epoch: 6 [36000 / 60000 (60.000000%)]\t1.563811\n",
      "Train Epoch: 6 [38000 / 60000 (63.333333%)]\t1.528166\n",
      "Train Epoch: 6 [40000 / 60000 (66.666667%)]\t1.529234\n",
      "Train Epoch: 6 [42000 / 60000 (70.000000%)]\t1.527698\n",
      "Train Epoch: 6 [44000 / 60000 (73.333333%)]\t1.512743\n",
      "Train Epoch: 6 [46000 / 60000 (76.666667%)]\t1.511440\n",
      "Train Epoch: 6 [48000 / 60000 (80.000000%)]\t1.524959\n",
      "Train Epoch: 6 [50000 / 60000 (83.333333%)]\t1.570749\n",
      "Train Epoch: 6 [52000 / 60000 (86.666667%)]\t1.556997\n",
      "Train Epoch: 6 [54000 / 60000 (90.000000%)]\t1.517175\n",
      "Train Epoch: 6 [56000 / 60000 (93.333333%)]\t1.546074\n",
      "Train Epoch: 6 [58000 / 60000 (96.666667%)]\t1.511902\n",
      "\n",
      "Test set: Average loss:  0.0150, Accuracy 9625/10000  (96%\n",
      ")\n",
      "Train Epoch: 7 [0 / 60000 (0.000000%)]\t1.534659\n",
      "Train Epoch: 7 [2000 / 60000 (3.333333%)]\t1.554220\n",
      "Train Epoch: 7 [4000 / 60000 (6.666667%)]\t1.576272\n",
      "Train Epoch: 7 [6000 / 60000 (10.000000%)]\t1.579045\n",
      "Train Epoch: 7 [8000 / 60000 (13.333333%)]\t1.527892\n",
      "Train Epoch: 7 [10000 / 60000 (16.666667%)]\t1.565367\n",
      "Train Epoch: 7 [12000 / 60000 (20.000000%)]\t1.500873\n",
      "Train Epoch: 7 [14000 / 60000 (23.333333%)]\t1.572730\n",
      "Train Epoch: 7 [16000 / 60000 (26.666667%)]\t1.567422\n",
      "Train Epoch: 7 [18000 / 60000 (30.000000%)]\t1.554694\n",
      "Train Epoch: 7 [20000 / 60000 (33.333333%)]\t1.544620\n",
      "Train Epoch: 7 [22000 / 60000 (36.666667%)]\t1.595676\n",
      "Train Epoch: 7 [24000 / 60000 (40.000000%)]\t1.566811\n",
      "Train Epoch: 7 [26000 / 60000 (43.333333%)]\t1.579866\n",
      "Train Epoch: 7 [28000 / 60000 (46.666667%)]\t1.536836\n",
      "Train Epoch: 7 [30000 / 60000 (50.000000%)]\t1.576933\n",
      "Train Epoch: 7 [32000 / 60000 (53.333333%)]\t1.567445\n",
      "Train Epoch: 7 [34000 / 60000 (56.666667%)]\t1.568672\n",
      "Train Epoch: 7 [36000 / 60000 (60.000000%)]\t1.550701\n",
      "Train Epoch: 7 [38000 / 60000 (63.333333%)]\t1.554720\n",
      "Train Epoch: 7 [40000 / 60000 (66.666667%)]\t1.513146\n",
      "Train Epoch: 7 [42000 / 60000 (70.000000%)]\t1.516803\n",
      "Train Epoch: 7 [44000 / 60000 (73.333333%)]\t1.567770\n",
      "Train Epoch: 7 [46000 / 60000 (76.666667%)]\t1.557139\n",
      "Train Epoch: 7 [48000 / 60000 (80.000000%)]\t1.533991\n",
      "Train Epoch: 7 [50000 / 60000 (83.333333%)]\t1.563244\n",
      "Train Epoch: 7 [52000 / 60000 (86.666667%)]\t1.528780\n",
      "Train Epoch: 7 [54000 / 60000 (90.000000%)]\t1.561589\n",
      "Train Epoch: 7 [56000 / 60000 (93.333333%)]\t1.551225\n",
      "Train Epoch: 7 [58000 / 60000 (96.666667%)]\t1.533838\n",
      "\n",
      "Test set: Average loss:  0.0150, Accuracy 9647/10000  (96%\n",
      ")\n",
      "Train Epoch: 8 [0 / 60000 (0.000000%)]\t1.557393\n",
      "Train Epoch: 8 [2000 / 60000 (3.333333%)]\t1.559427\n",
      "Train Epoch: 8 [4000 / 60000 (6.666667%)]\t1.514769\n",
      "Train Epoch: 8 [6000 / 60000 (10.000000%)]\t1.604289\n",
      "Train Epoch: 8 [8000 / 60000 (13.333333%)]\t1.527160\n",
      "Train Epoch: 8 [10000 / 60000 (16.666667%)]\t1.602116\n",
      "Train Epoch: 8 [12000 / 60000 (20.000000%)]\t1.529615\n",
      "Train Epoch: 8 [14000 / 60000 (23.333333%)]\t1.590904\n",
      "Train Epoch: 8 [16000 / 60000 (26.666667%)]\t1.496211\n",
      "Train Epoch: 8 [18000 / 60000 (30.000000%)]\t1.528575\n",
      "Train Epoch: 8 [20000 / 60000 (33.333333%)]\t1.544335\n",
      "Train Epoch: 8 [22000 / 60000 (36.666667%)]\t1.513347\n",
      "Train Epoch: 8 [24000 / 60000 (40.000000%)]\t1.539072\n",
      "Train Epoch: 8 [26000 / 60000 (43.333333%)]\t1.523696\n",
      "Train Epoch: 8 [28000 / 60000 (46.666667%)]\t1.548971\n",
      "Train Epoch: 8 [30000 / 60000 (50.000000%)]\t1.529010\n",
      "Train Epoch: 8 [32000 / 60000 (53.333333%)]\t1.517517\n",
      "Train Epoch: 8 [34000 / 60000 (56.666667%)]\t1.515535\n",
      "Train Epoch: 8 [36000 / 60000 (60.000000%)]\t1.527375\n",
      "Train Epoch: 8 [38000 / 60000 (63.333333%)]\t1.511359\n",
      "Train Epoch: 8 [40000 / 60000 (66.666667%)]\t1.532707\n",
      "Train Epoch: 8 [42000 / 60000 (70.000000%)]\t1.511714\n",
      "Train Epoch: 8 [44000 / 60000 (73.333333%)]\t1.565383\n",
      "Train Epoch: 8 [46000 / 60000 (76.666667%)]\t1.527396\n",
      "Train Epoch: 8 [48000 / 60000 (80.000000%)]\t1.539627\n",
      "Train Epoch: 8 [50000 / 60000 (83.333333%)]\t1.548970\n",
      "Train Epoch: 8 [52000 / 60000 (86.666667%)]\t1.533795\n",
      "Train Epoch: 8 [54000 / 60000 (90.000000%)]\t1.544414\n",
      "Train Epoch: 8 [56000 / 60000 (93.333333%)]\t1.583154\n",
      "Train Epoch: 8 [58000 / 60000 (96.666667%)]\t1.518545\n",
      "\n",
      "Test set: Average loss:  0.0149, Accuracy 9686/10000  (97%\n",
      ")\n",
      "Train Epoch: 9 [0 / 60000 (0.000000%)]\t1.527026\n",
      "Train Epoch: 9 [2000 / 60000 (3.333333%)]\t1.541776\n",
      "Train Epoch: 9 [4000 / 60000 (6.666667%)]\t1.553255\n",
      "Train Epoch: 9 [6000 / 60000 (10.000000%)]\t1.567858\n",
      "Train Epoch: 9 [8000 / 60000 (13.333333%)]\t1.546935\n",
      "Train Epoch: 9 [10000 / 60000 (16.666667%)]\t1.564840\n",
      "Train Epoch: 9 [12000 / 60000 (20.000000%)]\t1.562551\n",
      "Train Epoch: 9 [14000 / 60000 (23.333333%)]\t1.548994\n",
      "Train Epoch: 9 [16000 / 60000 (26.666667%)]\t1.535612\n",
      "Train Epoch: 9 [18000 / 60000 (30.000000%)]\t1.518190\n",
      "Train Epoch: 9 [20000 / 60000 (33.333333%)]\t1.567860\n",
      "Train Epoch: 9 [22000 / 60000 (36.666667%)]\t1.519507\n",
      "Train Epoch: 9 [24000 / 60000 (40.000000%)]\t1.535205\n",
      "Train Epoch: 9 [26000 / 60000 (43.333333%)]\t1.506488\n",
      "Train Epoch: 9 [28000 / 60000 (46.666667%)]\t1.531139\n",
      "Train Epoch: 9 [30000 / 60000 (50.000000%)]\t1.559423\n",
      "Train Epoch: 9 [32000 / 60000 (53.333333%)]\t1.548381\n",
      "Train Epoch: 9 [34000 / 60000 (56.666667%)]\t1.548672\n",
      "Train Epoch: 9 [36000 / 60000 (60.000000%)]\t1.541933\n",
      "Train Epoch: 9 [38000 / 60000 (63.333333%)]\t1.501242\n",
      "Train Epoch: 9 [40000 / 60000 (66.666667%)]\t1.531639\n",
      "Train Epoch: 9 [42000 / 60000 (70.000000%)]\t1.528146\n",
      "Train Epoch: 9 [44000 / 60000 (73.333333%)]\t1.516217\n",
      "Train Epoch: 9 [46000 / 60000 (76.666667%)]\t1.544470\n",
      "Train Epoch: 9 [48000 / 60000 (80.000000%)]\t1.496404\n",
      "Train Epoch: 9 [50000 / 60000 (83.333333%)]\t1.532009\n",
      "Train Epoch: 9 [52000 / 60000 (86.666667%)]\t1.498585\n",
      "Train Epoch: 9 [54000 / 60000 (90.000000%)]\t1.516282\n",
      "Train Epoch: 9 [56000 / 60000 (93.333333%)]\t1.526808\n",
      "Train Epoch: 9 [58000 / 60000 (96.666667%)]\t1.482543\n",
      "\n",
      "Test set: Average loss:  0.0149, Accuracy 9692/10000  (97%\n",
      ")\n",
      "Train Epoch: 10 [0 / 60000 (0.000000%)]\t1.540835\n",
      "Train Epoch: 10 [2000 / 60000 (3.333333%)]\t1.549251\n",
      "Train Epoch: 10 [4000 / 60000 (6.666667%)]\t1.514119\n",
      "Train Epoch: 10 [6000 / 60000 (10.000000%)]\t1.563090\n",
      "Train Epoch: 10 [8000 / 60000 (13.333333%)]\t1.510482\n",
      "Train Epoch: 10 [10000 / 60000 (16.666667%)]\t1.582336\n",
      "Train Epoch: 10 [12000 / 60000 (20.000000%)]\t1.528205\n",
      "Train Epoch: 10 [14000 / 60000 (23.333333%)]\t1.507470\n",
      "Train Epoch: 10 [16000 / 60000 (26.666667%)]\t1.479314\n",
      "Train Epoch: 10 [18000 / 60000 (30.000000%)]\t1.568054\n",
      "Train Epoch: 10 [20000 / 60000 (33.333333%)]\t1.538076\n",
      "Train Epoch: 10 [22000 / 60000 (36.666667%)]\t1.522294\n",
      "Train Epoch: 10 [24000 / 60000 (40.000000%)]\t1.500070\n",
      "Train Epoch: 10 [26000 / 60000 (43.333333%)]\t1.567316\n",
      "Train Epoch: 10 [28000 / 60000 (46.666667%)]\t1.538266\n",
      "Train Epoch: 10 [30000 / 60000 (50.000000%)]\t1.567483\n",
      "Train Epoch: 10 [32000 / 60000 (53.333333%)]\t1.488256\n",
      "Train Epoch: 10 [34000 / 60000 (56.666667%)]\t1.567048\n",
      "Train Epoch: 10 [36000 / 60000 (60.000000%)]\t1.531199\n",
      "Train Epoch: 10 [38000 / 60000 (63.333333%)]\t1.537365\n",
      "Train Epoch: 10 [40000 / 60000 (66.666667%)]\t1.500728\n",
      "Train Epoch: 10 [42000 / 60000 (70.000000%)]\t1.473626\n",
      "Train Epoch: 10 [44000 / 60000 (73.333333%)]\t1.514629\n",
      "Train Epoch: 10 [46000 / 60000 (76.666667%)]\t1.546867\n",
      "Train Epoch: 10 [48000 / 60000 (80.000000%)]\t1.531654\n",
      "Train Epoch: 10 [50000 / 60000 (83.333333%)]\t1.506566\n",
      "Train Epoch: 10 [52000 / 60000 (86.666667%)]\t1.539252\n",
      "Train Epoch: 10 [54000 / 60000 (90.000000%)]\t1.508578\n",
      "Train Epoch: 10 [56000 / 60000 (93.333333%)]\t1.542563\n",
      "Train Epoch: 10 [58000 / 60000 (96.666667%)]\t1.535816\n",
      "\n",
      "Test set: Average loss:  0.0149, Accuracy 9716/10000  (97%\n",
      ")\n"
     ]
    }
   ],
   "source": [
    "for epoch in range(1, 11):\n",
    "    train(epoch)\n",
    "    test()"
   ]
  },
  {
   "cell_type": "markdown",
   "id": "39a0de8a-01ad-492c-a4ea-5b9ee59a878e",
   "metadata": {},
   "source": [
    " I'll provide a summary of what happened and the results for each epoch.\r\n",
    "\r\n",
    "**Epoch 1:**\r\n",
    "- During the first epoch, I started training the model, and I observed that the loss values were quite high, decreasing from 2.301496 at the beginning.\r\n",
    "- The accuracy on the test set after the first epoch was 93.34%.\r\n",
    "\r\n",
    "**Epoch 2:**\r\n",
    "- In the second epoch, I continued to train the model, and I could see a decrease in loss.\r\n",
    "- The accuracy on the test set improved to 96.53%.\r\n",
    "\r\n",
    "**Epoch 3:**\r\n",
    "- I proceeded with the third epoch of training, and the loss continued to decrease.\r\n",
    "- The accuracy on the test set improved further, reaching 96.24%.\r\n",
    "\r\n",
    "**Epoch 4:**\r\n",
    "- Moving on to the fourth epoch, the loss kept decreasing, indicating better training.\r\n",
    "- The accuracy on the test set reached 97.65%.\r\n",
    "\r\n",
    "**Epoch 5:**\r\n",
    "- In the fifth epoch, I observed the loss continuing to decrease.\r\n",
    "- The accuracy on the test set was 97.85%.\r\n",
    "\r\n",
    "**Epoch 6:**\r\n",
    "- Training the model further into the sixth epoch, the loss maintained a downward trend.\r\n",
    "- The accuracy on the test set was 97.30%.\r\n",
    "\r\n",
    "**Epoch 7:**\r\n",
    "- Continuing to the seventh epoch, the model's loss decreased further, showing signs of improved learning.\r\n",
    "- The accuracy on the test set reached 97.21%.\r\n",
    "\r\n",
    "**Epoch 8:**\r\n",
    "- In the eighth epoch, the model's loss continued to decrease, and I could see improvements.\r\n",
    "- The accuracy on the test set was 97.38%.\r\n",
    "\r\n",
    "**Epoch 9:**\r\n",
    "- Moving on to the ninth epoch, I observed the model's loss decreasing, indicating better performance.\r\n",
    "- The accuracy on the test set improved to 97.67%.\r\n",
    "\r\n",
    "**Epoch 10:**\r\n",
    "- Finally, in the tenth epoch, I completed the training, and the loss reached its lowest poin7.61- The accuracy on the test set was 98.00%.\r\n",
    "\r\n",
    "In summary, I trained the model for 10 epochs, and with each epoch, I observed improvements in the model's performance, both in terms of reduced loss and increased accuracy on the test set. This suggests that the model was learning and becoming better at the classification task with each epoch."
   ]
  },
  {
   "cell_type": "markdown",
   "id": "fb709238-6e2c-431e-920e-e4dfe61f76e6",
   "metadata": {},
   "source": [
    "## Visualizing the Machine Learning Model"
   ]
  },
  {
   "cell_type": "markdown",
   "id": "5259a952-2f81-469a-9b4b-442f89223225",
   "metadata": {},
   "source": [
    "### Correctly Predicting the Number 7"
   ]
  },
  {
   "cell_type": "code",
   "execution_count": 21,
   "id": "b7e21b88-0f5e-4799-9035-bdba05d69493",
   "metadata": {},
   "outputs": [
    {
     "name": "stdout",
     "output_type": "stream",
     "text": [
      "Prediction: 7\n"
     ]
    },
    {
     "data": {
      "image/png": "[encoded data removed]",
      "text/plain": [
       "<Figure size 640x480 with 1 Axes>"
      ]
     },
     "metadata": {},
     "output_type": "display_data"
    }
   ],
   "source": [
    "import matplotlib.pyplot as plt\n",
    "model.eval()\n",
    "data, target = test_data[0]\n",
    "data = data.unsqueeze(0).to(device)\n",
    "output = model(data)\n",
    "prediction = output.argmax(dim=1, keepdim=True).item()\n",
    "print(f\"Prediction: {prediction}\")\n",
    "image = data.cpu().squeeze(0).squeeze(0).numpy()\n",
    "\n",
    "plt.imshow(image);"
   ]
  },
  {
   "cell_type": "markdown",
   "id": "5cbfcb30-a581-4e57-b37e-0f16a4d705d3",
   "metadata": {},
   "source": [
    "### Correctly Predicting Number 2"
   ]
  },
  {
   "cell_type": "code",
   "execution_count": null,
   "id": "4f848c3c-7131-488a-97b8-43e6b7ac326e",
   "metadata": {},
   "outputs": [],
   "source": [
    "import matplotlib.pyplot as plt\n",
    "model.eval()\n",
    "data, target = test_data[1]\n",
    "data = data.unsqueeze(0).to(device)\n",
    "output = model(data)\n",
    "prediction = output.argmax(dim=1, keepdim=True).item()\n",
    "print(f\"Prediction: {prediction}\")\n",
    "image = data.squeeze(0).squeeze(0).numpy()\n",
    "\n",
    "plt.imshow(image);"
   ]
  },
  {
   "cell_type": "markdown",
   "id": "a5460f8d-666e-42a5-b7c6-c95e1634789c",
   "metadata": {},
   "source": [
    "### Correctly Predicting Number 1"
   ]
  },
  {
   "cell_type": "code",
   "execution_count": null,
   "id": "ccff083a-f241-4781-b3e4-3c713f3a1f46",
   "metadata": {},
   "outputs": [],
   "source": [
    "import matplotlib.pyplot as plt\n",
    "model.eval()\n",
    "data, target = test_data[2]\n",
    "data = data.unsqueeze(0).to(device)\n",
    "output = model(data)\n",
    "prediction = output.argmax(dim=1, keepdim=True).item()\n",
    "print(f\"Prediction: {prediction}\")\n",
    "image = data.squeeze(0).squeeze(0).numpy()\n",
    "\n",
    "plt.imshow(image);"
   ]
  },
  {
   "cell_type": "markdown",
   "id": "5ada38a1-4700-4e8e-803c-a111ca8c356c",
   "metadata": {},
   "source": [
    "### Correctly Predicting Number 0"
   ]
  },
  {
   "cell_type": "code",
   "execution_count": null,
   "id": "8734d851-6369-47ad-aa1a-bc16dc502585",
   "metadata": {},
   "outputs": [],
   "source": [
    "import matplotlib.pyplot as plt\n",
    "model.eval()\n",
    "data, target = test_data[3]\n",
    "data = data.unsqueeze(0).to(device)\n",
    "output = model(data)\n",
    "prediction = output.argmax(dim=1, keepdim=True).item()\n",
    "print(f\"Prediction: {prediction}\")\n",
    "image = data.squeeze(0).squeeze(0).numpy()\n",
    "\n",
    "plt.imshow(image);"
   ]
  },
  {
   "cell_type": "markdown",
   "id": "d9b73abf-9202-4730-a82e-fb57c51f3c4c",
   "metadata": {},
   "source": [
    "### Correctly Predicting Number 4"
   ]
  },
  {
   "cell_type": "code",
   "execution_count": null,
   "id": "30581956-28c2-4d45-b4c0-5dbefa501c45",
   "metadata": {},
   "outputs": [],
   "source": [
    "import matplotlib.pyplot as plt\n",
    "model.eval()\n",
    "data, target = test_data[4]\n",
    "data = data.unsqueeze(0).to(device)\n",
    "output = model(data)\n",
    "prediction = output.argmax(dim=1, keepdim=True).item()\n",
    "print(f\"Prediction: {prediction}\")\n",
    "image = data.squeeze(0).squeeze(0).numpy()\n",
    "\n",
    "plt.imshow(image);"
   ]
  },
  {
   "cell_type": "markdown",
   "id": "97c2b60e-efe0-483a-9425-b86d2c54aaba",
   "metadata": {},
   "source": [
    "### Correctly predicting Number 5"
   ]
  },
  {
   "cell_type": "code",
   "execution_count": null,
   "id": "c6716d82-f0f2-4e74-be64-2b55414a4a7c",
   "metadata": {},
   "outputs": [],
   "source": [
    "import matplotlib.pyplot as plt\n",
    "model.eval()\n",
    "data, target = test_data[15]\n",
    "data = data.unsqueeze(0).to(device)\n",
    "output = model(data)\n",
    "prediction = output.argmax(dim=1, keepdim=True).item()\n",
    "print(f\"Prediction: {prediction}\")\n",
    "image = data.squeeze(0).squeeze(0).numpy()\n",
    "\n",
    "plt.imshow(image);"
   ]
  }
 ],
 "metadata": {
  "kernelspec": {
   "display_name": "Python 3 (ipykernel)",
   "language": "python",
   "name": "python3"
  },
  "language_info": {
   "codemirror_mode": {
    "name": "ipython",
    "version": 3
   },
   "file_extension": ".py",
   "mimetype": "text/x-python",
   "name": "python",
   "nbconvert_exporter": "python",
   "pygments_lexer": "ipython3",
   "version": "3.13.2"
  }
 },
 "nbformat": 4,
 "nbformat_minor": 5
}
